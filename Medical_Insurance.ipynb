{
 "cells": [
  {
   "cell_type": "markdown",
   "id": "4a86e66d",
   "metadata": {},
   "source": [
    "### Part A for Medical Insurance Dataset"
   ]
  },
  {
   "cell_type": "markdown",
   "id": "6c5c0b54",
   "metadata": {},
   "source": [
    "#### Task for the Dataset\n",
    "\n",
    "* 1. Is the required ML supervised, unsupervised, or semi supervised learning and why? Which ML task (classification, clustering, regression analysis or any other) is the best in this case and why? \n",
    "\n",
    "* 2. Explore your data and document your observation.\n",
    "\n",
    "* 3. Study the correlation between each predictor and the medicalCost. What is your conclusion?\n",
    "\n",
    "* 4. Use the correlation analysis to select 3 best predictors and build a simple linear regression model based on each of the predictors.\n",
    "\n",
    "* 5. Evaluate the performance with the statistical performance measures to evaluate the statistical significance of your results.\n",
    "\n",
    "* 6. Build two multivariate regression models (1) with the three predictors above and (2) with all\n",
    "the predictors in the dataset. Evaluate and compare the two models.\n",
    "\n",
    "* 7. State your overall conclusions for this task."
   ]
  },
  {
   "cell_type": "markdown",
   "id": "206ffafe",
   "metadata": {},
   "source": [
    "### 1. Importing Dataset"
   ]
  },
  {
   "cell_type": "code",
   "execution_count": 1,
   "id": "9e82083e",
   "metadata": {},
   "outputs": [],
   "source": [
    "# Import Libraries for the dataset\n",
    "\n",
    "import pandas as pd\n",
    "import numpy as np\n",
    "import seaborn as sns\n",
    "import matplotlib.pyplot as plt\n",
    "%matplotlib inline"
   ]
  },
  {
   "cell_type": "code",
   "execution_count": 2,
   "id": "6746b522",
   "metadata": {},
   "outputs": [],
   "source": [
    "# Import dataset & have a view\n",
    "Medical_Insurance = pd.read_csv('insurance.csv')"
   ]
  },
  {
   "cell_type": "code",
   "execution_count": 3,
   "id": "6ddb3663",
   "metadata": {},
   "outputs": [
    {
     "data": {
      "text/html": [
       "<div>\n",
       "<style scoped>\n",
       "    .dataframe tbody tr th:only-of-type {\n",
       "        vertical-align: middle;\n",
       "    }\n",
       "\n",
       "    .dataframe tbody tr th {\n",
       "        vertical-align: top;\n",
       "    }\n",
       "\n",
       "    .dataframe thead th {\n",
       "        text-align: right;\n",
       "    }\n",
       "</style>\n",
       "<table border=\"1\" class=\"dataframe\">\n",
       "  <thead>\n",
       "    <tr style=\"text-align: right;\">\n",
       "      <th></th>\n",
       "      <th>age</th>\n",
       "      <th>sex</th>\n",
       "      <th>bmi</th>\n",
       "      <th>children</th>\n",
       "      <th>smoker</th>\n",
       "      <th>region</th>\n",
       "      <th>medicalCost</th>\n",
       "    </tr>\n",
       "  </thead>\n",
       "  <tbody>\n",
       "    <tr>\n",
       "      <th>0</th>\n",
       "      <td>19</td>\n",
       "      <td>female</td>\n",
       "      <td>27.900</td>\n",
       "      <td>0</td>\n",
       "      <td>yes</td>\n",
       "      <td>southwest</td>\n",
       "      <td>16884.92400</td>\n",
       "    </tr>\n",
       "    <tr>\n",
       "      <th>1</th>\n",
       "      <td>18</td>\n",
       "      <td>male</td>\n",
       "      <td>33.770</td>\n",
       "      <td>1</td>\n",
       "      <td>no</td>\n",
       "      <td>southeast</td>\n",
       "      <td>1725.55230</td>\n",
       "    </tr>\n",
       "    <tr>\n",
       "      <th>2</th>\n",
       "      <td>28</td>\n",
       "      <td>male</td>\n",
       "      <td>33.000</td>\n",
       "      <td>3</td>\n",
       "      <td>no</td>\n",
       "      <td>southeast</td>\n",
       "      <td>4449.46200</td>\n",
       "    </tr>\n",
       "    <tr>\n",
       "      <th>3</th>\n",
       "      <td>33</td>\n",
       "      <td>male</td>\n",
       "      <td>22.705</td>\n",
       "      <td>0</td>\n",
       "      <td>no</td>\n",
       "      <td>northwest</td>\n",
       "      <td>21984.47061</td>\n",
       "    </tr>\n",
       "    <tr>\n",
       "      <th>4</th>\n",
       "      <td>32</td>\n",
       "      <td>male</td>\n",
       "      <td>28.880</td>\n",
       "      <td>0</td>\n",
       "      <td>no</td>\n",
       "      <td>northwest</td>\n",
       "      <td>3866.85520</td>\n",
       "    </tr>\n",
       "  </tbody>\n",
       "</table>\n",
       "</div>"
      ],
      "text/plain": [
       "   age     sex     bmi  children smoker     region  medicalCost\n",
       "0   19  female  27.900         0    yes  southwest  16884.92400\n",
       "1   18    male  33.770         1     no  southeast   1725.55230\n",
       "2   28    male  33.000         3     no  southeast   4449.46200\n",
       "3   33    male  22.705         0     no  northwest  21984.47061\n",
       "4   32    male  28.880         0     no  northwest   3866.85520"
      ]
     },
     "execution_count": 3,
     "metadata": {},
     "output_type": "execute_result"
    }
   ],
   "source": [
    "# View of the dataset\n",
    "Medical_Insurance.head()"
   ]
  },
  {
   "cell_type": "markdown",
   "id": "172f5674",
   "metadata": {},
   "source": [
    "## 1a:\n",
    "\n",
    "The given dataset is a SUPERVISED LEARNING\n",
    "\n",
    "It can be seen that the dataset comprises of six(6) independent variables and one dependent variable (medicalCost), also known as the target or output.\n",
    "This target is a continuous variable which is dependent on the other six columns which are well labelled. Since the end goal for the dataset is to produce the target which is the medicalCost, then we can conclude from the view it that it's a supervised learning ML."
   ]
  },
  {
   "cell_type": "markdown",
   "id": "f10565b6",
   "metadata": {},
   "source": [
    "## 1b\n",
    "\n",
    "The best ML model to use in the above dataset is Regression Analysis.\n",
    "\n",
    "This is because the output or the target column is a continuous value which is also demendent on the independent columns."
   ]
  },
  {
   "cell_type": "markdown",
   "id": "e15697f4",
   "metadata": {},
   "source": [
    "## 2. Data Exploration"
   ]
  },
  {
   "cell_type": "code",
   "execution_count": 4,
   "id": "f48c8633",
   "metadata": {},
   "outputs": [
    {
     "name": "stdout",
     "output_type": "stream",
     "text": [
      "Shape of the Medical Insurance Dataset:  (1338, 7)\n"
     ]
    }
   ],
   "source": [
    "# Shape of the dataset\n",
    "print('Shape of the Medical Insurance Dataset: ', Medical_Insurance.shape)"
   ]
  },
  {
   "cell_type": "code",
   "execution_count": 5,
   "id": "8c212f23",
   "metadata": {},
   "outputs": [
    {
     "name": "stdout",
     "output_type": "stream",
     "text": [
      "<class 'pandas.core.frame.DataFrame'>\n",
      "RangeIndex: 1338 entries, 0 to 1337\n",
      "Data columns (total 7 columns):\n",
      " #   Column       Non-Null Count  Dtype  \n",
      "---  ------       --------------  -----  \n",
      " 0   age          1338 non-null   int64  \n",
      " 1   sex          1338 non-null   object \n",
      " 2   bmi          1338 non-null   float64\n",
      " 3   children     1338 non-null   int64  \n",
      " 4   smoker       1338 non-null   object \n",
      " 5   region       1338 non-null   object \n",
      " 6   medicalCost  1338 non-null   float64\n",
      "dtypes: float64(2), int64(2), object(3)\n",
      "memory usage: 73.3+ KB\n"
     ]
    }
   ],
   "source": [
    "# Columns of the dataset and properties \n",
    "Medical_Insurance.info()"
   ]
  },
  {
   "cell_type": "code",
   "execution_count": 6,
   "id": "0236545c",
   "metadata": {},
   "outputs": [
    {
     "data": {
      "text/html": [
       "<div>\n",
       "<style scoped>\n",
       "    .dataframe tbody tr th:only-of-type {\n",
       "        vertical-align: middle;\n",
       "    }\n",
       "\n",
       "    .dataframe tbody tr th {\n",
       "        vertical-align: top;\n",
       "    }\n",
       "\n",
       "    .dataframe thead th {\n",
       "        text-align: right;\n",
       "    }\n",
       "</style>\n",
       "<table border=\"1\" class=\"dataframe\">\n",
       "  <thead>\n",
       "    <tr style=\"text-align: right;\">\n",
       "      <th></th>\n",
       "      <th>age</th>\n",
       "      <th>bmi</th>\n",
       "      <th>children</th>\n",
       "      <th>medicalCost</th>\n",
       "    </tr>\n",
       "  </thead>\n",
       "  <tbody>\n",
       "    <tr>\n",
       "      <th>count</th>\n",
       "      <td>1338.000000</td>\n",
       "      <td>1338.000000</td>\n",
       "      <td>1338.000000</td>\n",
       "      <td>1338.000000</td>\n",
       "    </tr>\n",
       "    <tr>\n",
       "      <th>mean</th>\n",
       "      <td>39.207025</td>\n",
       "      <td>30.663397</td>\n",
       "      <td>1.094918</td>\n",
       "      <td>13270.422265</td>\n",
       "    </tr>\n",
       "    <tr>\n",
       "      <th>std</th>\n",
       "      <td>14.049960</td>\n",
       "      <td>6.098187</td>\n",
       "      <td>1.205493</td>\n",
       "      <td>12110.011237</td>\n",
       "    </tr>\n",
       "    <tr>\n",
       "      <th>min</th>\n",
       "      <td>18.000000</td>\n",
       "      <td>15.960000</td>\n",
       "      <td>0.000000</td>\n",
       "      <td>1121.873900</td>\n",
       "    </tr>\n",
       "    <tr>\n",
       "      <th>25%</th>\n",
       "      <td>27.000000</td>\n",
       "      <td>26.296250</td>\n",
       "      <td>0.000000</td>\n",
       "      <td>4740.287150</td>\n",
       "    </tr>\n",
       "    <tr>\n",
       "      <th>50%</th>\n",
       "      <td>39.000000</td>\n",
       "      <td>30.400000</td>\n",
       "      <td>1.000000</td>\n",
       "      <td>9382.033000</td>\n",
       "    </tr>\n",
       "    <tr>\n",
       "      <th>75%</th>\n",
       "      <td>51.000000</td>\n",
       "      <td>34.693750</td>\n",
       "      <td>2.000000</td>\n",
       "      <td>16639.912515</td>\n",
       "    </tr>\n",
       "    <tr>\n",
       "      <th>max</th>\n",
       "      <td>64.000000</td>\n",
       "      <td>53.130000</td>\n",
       "      <td>5.000000</td>\n",
       "      <td>63770.428010</td>\n",
       "    </tr>\n",
       "  </tbody>\n",
       "</table>\n",
       "</div>"
      ],
      "text/plain": [
       "               age          bmi     children   medicalCost\n",
       "count  1338.000000  1338.000000  1338.000000   1338.000000\n",
       "mean     39.207025    30.663397     1.094918  13270.422265\n",
       "std      14.049960     6.098187     1.205493  12110.011237\n",
       "min      18.000000    15.960000     0.000000   1121.873900\n",
       "25%      27.000000    26.296250     0.000000   4740.287150\n",
       "50%      39.000000    30.400000     1.000000   9382.033000\n",
       "75%      51.000000    34.693750     2.000000  16639.912515\n",
       "max      64.000000    53.130000     5.000000  63770.428010"
      ]
     },
     "execution_count": 6,
     "metadata": {},
     "output_type": "execute_result"
    }
   ],
   "source": [
    "# The statistical summary of the dataset\n",
    "Medical_Insurance.describe()"
   ]
  },
  {
   "cell_type": "markdown",
   "id": "acdd8e73",
   "metadata": {},
   "source": [
    "* The average age, bmi, children, medicalCost are 39, 30.6, 1, and 13270.4 respectively\n",
    "* The minimum values are also indicated above to be 18, 15.96, 0, 1121.87 respectively\n",
    "* The maximum values are also indicated above to be 64, 53.1, 5, 63770.43 respectively"
   ]
  },
  {
   "cell_type": "code",
   "execution_count": 7,
   "id": "e0973bd6",
   "metadata": {},
   "outputs": [
    {
     "data": {
      "text/plain": [
       "age            0\n",
       "sex            0\n",
       "bmi            0\n",
       "children       0\n",
       "smoker         0\n",
       "region         0\n",
       "medicalCost    0\n",
       "dtype: int64"
      ]
     },
     "execution_count": 7,
     "metadata": {},
     "output_type": "execute_result"
    }
   ],
   "source": [
    "# Checking for missing values \n",
    "Medical_Insurance.isna().sum()"
   ]
  },
  {
   "cell_type": "markdown",
   "id": "16cf2136",
   "metadata": {},
   "source": [
    "There are no missing nor empty values"
   ]
  },
  {
   "cell_type": "code",
   "execution_count": 8,
   "id": "08e8fad6",
   "metadata": {},
   "outputs": [
    {
     "data": {
      "image/png": "[encoded data removed]",
      "text/plain": [
       "<Figure size 640x480 with 1 Axes>"
      ]
     },
     "metadata": {},
     "output_type": "display_data"
    }
   ],
   "source": [
    "# Effect of Smoker on Cost of Insurance\n",
    "plt.bar(x = Medical_Insurance.smoker, height=Medical_Insurance.medicalCost, color= 'tan')\n",
    "plt.xlabel('Smoker')\n",
    "plt.ylabel('MedicalCost');"
   ]
  },
  {
   "cell_type": "markdown",
   "id": "40b7753a",
   "metadata": {},
   "source": [
    "From the chart above, it is seen that the 'smoker' predictor has a significant impact on the medicalCost. People that smokes tends to pay higher medicalCost than people that don't smoke."
   ]
  },
  {
   "cell_type": "code",
   "execution_count": 9,
   "id": "bf3ba2a7",
   "metadata": {},
   "outputs": [
    {
     "data": {
      "image/png": "[encoded data removed]",
      "text/plain": [
       "<Figure size 640x480 with 1 Axes>"
      ]
     },
     "metadata": {},
     "output_type": "display_data"
    }
   ],
   "source": [
    "# Effect of Region on Medical Cost\n",
    "plt.bar(x = Medical_Insurance.region, height=Medical_Insurance.medicalCost, color = 'tan')\n",
    "plt.xlabel('Region')\n",
    "plt.ylabel('medicalCost');"
   ]
  },
  {
   "cell_type": "markdown",
   "id": "24d8e1a4",
   "metadata": {},
   "source": [
    "From the barchart above, it is seen that the people from southeast region pays most amount of medicalCost, then follow by northwest, northeast, and southeast coming as the least region with medicalCost.\n",
    "Nontheless, it can be seen that the region has little or no impact when determining the cost of medical Insurance."
   ]
  },
  {
   "cell_type": "code",
   "execution_count": 10,
   "id": "5421d729",
   "metadata": {},
   "outputs": [
    {
     "data": {
      "image/png": "[encoded data removed]",
      "text/plain": [
       "<Figure size 640x480 with 1 Axes>"
      ]
     },
     "metadata": {},
     "output_type": "display_data"
    }
   ],
   "source": [
    "# Sex on Cost of Medical Insurance \n",
    "plt.bar(x = Medical_Insurance.sex, height=Medical_Insurance.medicalCost)\n",
    "plt.xlabel('Sex')\n",
    "plt.ylabel('medicalCost');"
   ]
  },
  {
   "cell_type": "code",
   "execution_count": 11,
   "id": "27217aae",
   "metadata": {},
   "outputs": [
    {
     "data": {
      "image/png": "[encoded data removed]",
      "text/plain": [
       "<Figure size 640x480 with 1 Axes>"
      ]
     },
     "metadata": {},
     "output_type": "display_data"
    }
   ],
   "source": [
    "plt.bar(x = Medical_Insurance.children, height=Medical_Insurance.medicalCost)\n",
    "plt.xlabel('Number of Children')\n",
    "plt.ylabel('medicalCost');"
   ]
  },
  {
   "cell_type": "markdown",
   "id": "3e177bd8",
   "metadata": {},
   "source": [
    "It can be seen that the medicalCost is inversely proportional to the number of children"
   ]
  },
  {
   "cell_type": "code",
   "execution_count": 12,
   "id": "8759211e",
   "metadata": {},
   "outputs": [
    {
     "data": {
      "image/png": "[encoded data removed]",
      "text/plain": [
       "<Figure size 640x480 with 1 Axes>"
      ]
     },
     "metadata": {},
     "output_type": "display_data"
    }
   ],
   "source": [
    "plt.bar(x = Medical_Insurance.age, height=Medical_Insurance.medicalCost)\n",
    "plt.xlabel('age')\n",
    "plt.ylabel('medicalCost');"
   ]
  },
  {
   "cell_type": "code",
   "execution_count": 13,
   "id": "105cde06",
   "metadata": {},
   "outputs": [
    {
     "data": {
      "image/png": "[encoded data removed]",
      "text/plain": [
       "<Figure size 640x480 with 1 Axes>"
      ]
     },
     "metadata": {},
     "output_type": "display_data"
    }
   ],
   "source": [
    "plt.bar(x = Medical_Insurance.bmi, height=Medical_Insurance.medicalCost, width=5, linewidth= 12)\n",
    "plt.xlabel('bmi')\n",
    "plt.ylabel('medicalCost');"
   ]
  },
  {
   "cell_type": "markdown",
   "id": "a3c73f37",
   "metadata": {},
   "source": [
    "## 3a. Predictors vs target\n",
    "\n",
    "From the above dataset, it can be seen that the medicalCost varies according to the variation in the columns. For example, the smoker column, the people that smokes tends to have high medicalCost Insurance than people that don't smoke. To visibly check the effect of all these independent columns, we need to do a correlation table to view the effect of each columns to the medicalCost.\n",
    "To check the effect of this columns collectively, this will be visible on heatmap."
   ]
  },
  {
   "cell_type": "markdown",
   "id": "76a3975b",
   "metadata": {},
   "source": [
    "#### "
   ]
  },
  {
   "cell_type": "markdown",
   "id": "f1acdf62",
   "metadata": {},
   "source": [
    "In the advent to get the effect of each independent column on the dependent output, some of the columns that are categorical need to be converted into numerical column\n",
    "\n",
    "Categorical columns like sex, smoker, and region are needed to be converted into numerical column in order to get the actual correlation to the output"
   ]
  },
  {
   "cell_type": "code",
   "execution_count": 14,
   "id": "c71ca653",
   "metadata": {},
   "outputs": [],
   "source": [
    "# Changing the categorical data to numerical data\n",
    "\n",
    "for col in Medical_Insurance:\n",
    "    if Medical_Insurance[col].dtype == 'O':\n",
    "        sd = Medical_Insurance[col].astype('category')\n",
    "        sd1 = sd.cat.codes\n",
    "        Medical_Insurance[col] = sd1"
   ]
  },
  {
   "cell_type": "code",
   "execution_count": 15,
   "id": "135f7e91",
   "metadata": {},
   "outputs": [
    {
     "data": {
      "text/html": [
       "<div>\n",
       "<style scoped>\n",
       "    .dataframe tbody tr th:only-of-type {\n",
       "        vertical-align: middle;\n",
       "    }\n",
       "\n",
       "    .dataframe tbody tr th {\n",
       "        vertical-align: top;\n",
       "    }\n",
       "\n",
       "    .dataframe thead th {\n",
       "        text-align: right;\n",
       "    }\n",
       "</style>\n",
       "<table border=\"1\" class=\"dataframe\">\n",
       "  <thead>\n",
       "    <tr style=\"text-align: right;\">\n",
       "      <th></th>\n",
       "      <th>age</th>\n",
       "      <th>sex</th>\n",
       "      <th>bmi</th>\n",
       "      <th>children</th>\n",
       "      <th>smoker</th>\n",
       "      <th>region</th>\n",
       "      <th>medicalCost</th>\n",
       "    </tr>\n",
       "  </thead>\n",
       "  <tbody>\n",
       "    <tr>\n",
       "      <th>0</th>\n",
       "      <td>19</td>\n",
       "      <td>0</td>\n",
       "      <td>27.900</td>\n",
       "      <td>0</td>\n",
       "      <td>1</td>\n",
       "      <td>3</td>\n",
       "      <td>16884.92400</td>\n",
       "    </tr>\n",
       "    <tr>\n",
       "      <th>1</th>\n",
       "      <td>18</td>\n",
       "      <td>1</td>\n",
       "      <td>33.770</td>\n",
       "      <td>1</td>\n",
       "      <td>0</td>\n",
       "      <td>2</td>\n",
       "      <td>1725.55230</td>\n",
       "    </tr>\n",
       "    <tr>\n",
       "      <th>2</th>\n",
       "      <td>28</td>\n",
       "      <td>1</td>\n",
       "      <td>33.000</td>\n",
       "      <td>3</td>\n",
       "      <td>0</td>\n",
       "      <td>2</td>\n",
       "      <td>4449.46200</td>\n",
       "    </tr>\n",
       "    <tr>\n",
       "      <th>3</th>\n",
       "      <td>33</td>\n",
       "      <td>1</td>\n",
       "      <td>22.705</td>\n",
       "      <td>0</td>\n",
       "      <td>0</td>\n",
       "      <td>1</td>\n",
       "      <td>21984.47061</td>\n",
       "    </tr>\n",
       "    <tr>\n",
       "      <th>4</th>\n",
       "      <td>32</td>\n",
       "      <td>1</td>\n",
       "      <td>28.880</td>\n",
       "      <td>0</td>\n",
       "      <td>0</td>\n",
       "      <td>1</td>\n",
       "      <td>3866.85520</td>\n",
       "    </tr>\n",
       "  </tbody>\n",
       "</table>\n",
       "</div>"
      ],
      "text/plain": [
       "   age  sex     bmi  children  smoker  region  medicalCost\n",
       "0   19    0  27.900         0       1       3  16884.92400\n",
       "1   18    1  33.770         1       0       2   1725.55230\n",
       "2   28    1  33.000         3       0       2   4449.46200\n",
       "3   33    1  22.705         0       0       1  21984.47061\n",
       "4   32    1  28.880         0       0       1   3866.85520"
      ]
     },
     "execution_count": 15,
     "metadata": {},
     "output_type": "execute_result"
    }
   ],
   "source": [
    "Medical_Insurance.head()"
   ]
  },
  {
   "cell_type": "markdown",
   "id": "ff5d69a5",
   "metadata": {},
   "source": [
    "## 4. Plotting a heatmap which shows the correlation of all the predictors (columns)"
   ]
  },
  {
   "cell_type": "code",
   "execution_count": 16,
   "id": "2398e870",
   "metadata": {},
   "outputs": [
    {
     "data": {
      "image/png": "[encoded data removed]",
      "text/plain": [
       "<Figure size 640x480 with 2 Axes>"
      ]
     },
     "metadata": {},
     "output_type": "display_data"
    }
   ],
   "source": [
    "# Correlation map using heatmap\n",
    "Medical_Insurance_corr = Medical_Insurance.corr()\n",
    "sns.heatmap(Medical_Insurance_corr, annot=True);"
   ]
  },
  {
   "cell_type": "markdown",
   "id": "6a5a3967",
   "metadata": {},
   "source": [
    "From the above correlation chart, considering the correlation between each predictors and the medicalCost column, it can been seen that the predictor that has the highest value is the \"Smoker\" column with a value of 0.79. While the least correlated column is the region column with a value of -0.0062. \n",
    "\n",
    "In conclusion, the smoker predictor is highly positvely correlated to the medicalCost, meaning that it is a key determinant. In order of correlation, the predictors are listed below:\n",
    "\n",
    "\n",
    "* smoker (0.79)\n",
    "* age (0.3)\n",
    "* bmi (0.2)\n",
    "* children (0.068)\n",
    "* sex (0.057)\n",
    "* region (-0.0062)\n",
    "\n",
    "From the list above, the order of high correlation in decending order is smoker, age, bmi, children, sex, region."
   ]
  },
  {
   "cell_type": "markdown",
   "id": "56e16e03",
   "metadata": {},
   "source": [
    "### 4a. Selecting the best three Predictors\n",
    "\n",
    "From the correlation list above, the best tree predictors can be listed as follows:\n",
    "\n",
    "* smoker\n",
    "* age\n",
    "* bmi"
   ]
  },
  {
   "cell_type": "markdown",
   "id": "da28a3e8",
   "metadata": {},
   "source": [
    "## 4b. Linear Regression Model on the 3 best predictors singly."
   ]
  },
  {
   "cell_type": "code",
   "execution_count": 17,
   "id": "cccd51fc",
   "metadata": {},
   "outputs": [],
   "source": [
    "# Import needed libraries for the linear regression analytics\n",
    "from sklearn import metrics\n",
    "from sklearn.metrics import r2_score, accuracy_score, mean_absolute_error, mean_squared_error\n",
    "from sklearn.linear_model import LinearRegression\n",
    "from sklearn.model_selection import train_test_split\n",
    "import math"
   ]
  },
  {
   "cell_type": "markdown",
   "id": "5ea64481",
   "metadata": {},
   "source": [
    "### 4b. 1. For smoker predictor"
   ]
  },
  {
   "cell_type": "code",
   "execution_count": 18,
   "id": "6dd73a51",
   "metadata": {},
   "outputs": [],
   "source": [
    "X = Medical_Insurance['smoker']\n",
    "y = Medical_Insurance['medicalCost']\n",
    "\n",
    "# From the X and y variables, it can be seen that X (predictor) is a classification dataset while y (target) is a continuous value"
   ]
  },
  {
   "cell_type": "code",
   "execution_count": 19,
   "id": "fb8df483",
   "metadata": {},
   "outputs": [],
   "source": [
    "# Split dataset into X_train, and y_train\n",
    "X_train, X_test, y_train, y_test = train_test_split(X, y, test_size=0.2, random_state=42)"
   ]
  },
  {
   "cell_type": "markdown",
   "id": "f43bdbfa",
   "metadata": {},
   "source": [
    "##### Applying Linear Regression to Dataset"
   ]
  },
  {
   "cell_type": "code",
   "execution_count": 20,
   "id": "0df6abad",
   "metadata": {},
   "outputs": [
    {
     "name": "stdout",
     "output_type": "stream",
     "text": [
      "(1070,) (1070,) (268,) (268,)\n"
     ]
    }
   ],
   "source": [
    "# Applying linear regression model\n",
    "model1 = LinearRegression()\n",
    "\n",
    "print(X_train.shape, y_train.shape, X_test.shape, y_test.shape)"
   ]
  },
  {
   "cell_type": "code",
   "execution_count": 21,
   "id": "6f0cc814",
   "metadata": {},
   "outputs": [],
   "source": [
    "# In order to fit in the model, the dataset has to be in 2D\n",
    "\n",
    "X_train = X_train.values.reshape(-1, 1)\n",
    "X_test = X_test.values.reshape(-1, 1)\n",
    "y_train = y_train.values.reshape(-1, 1)"
   ]
  },
  {
   "cell_type": "code",
   "execution_count": 22,
   "id": "707dd432",
   "metadata": {},
   "outputs": [],
   "source": [
    "# Fitting the model \n",
    "Smoker_fit = model1.fit(X_train, y_train)"
   ]
  },
  {
   "cell_type": "code",
   "execution_count": 23,
   "id": "5e325531",
   "metadata": {},
   "outputs": [
    {
     "data": {
      "text/plain": [
       "0.6602486589056528"
      ]
     },
     "execution_count": 23,
     "metadata": {},
     "output_type": "execute_result"
    }
   ],
   "source": [
    "# Model Score\n",
    "smoker_score = round(model1.score(X_test, y_test), 2)\n",
    "model1.score(X_test, y_test)"
   ]
  },
  {
   "cell_type": "markdown",
   "id": "353d61cf",
   "metadata": {},
   "source": [
    "The model score for the smoker predictor is 66%"
   ]
  },
  {
   "cell_type": "code",
   "execution_count": 24,
   "id": "5c0fa945",
   "metadata": {},
   "outputs": [],
   "source": [
    "# Predicting the values for the test data\n",
    "y_preds = Smoker_fit.predict(X_test)"
   ]
  },
  {
   "cell_type": "code",
   "execution_count": 25,
   "id": "447a9615",
   "metadata": {},
   "outputs": [],
   "source": [
    "# Turning y_preds back into 1D\n",
    "y_preds = y_preds.flatten()"
   ]
  },
  {
   "cell_type": "code",
   "execution_count": 26,
   "id": "253852cf",
   "metadata": {},
   "outputs": [],
   "source": [
    "Smoker_predicted_value = pd.DataFrame({'Actual_Cost': y_test, \n",
    "                                      'Predicted_Cost': y_preds})"
   ]
  },
  {
   "cell_type": "code",
   "execution_count": 27,
   "id": "cead1260",
   "metadata": {},
   "outputs": [
    {
     "data": {
      "text/html": [
       "<div>\n",
       "<style scoped>\n",
       "    .dataframe tbody tr th:only-of-type {\n",
       "        vertical-align: middle;\n",
       "    }\n",
       "\n",
       "    .dataframe tbody tr th {\n",
       "        vertical-align: top;\n",
       "    }\n",
       "\n",
       "    .dataframe thead th {\n",
       "        text-align: right;\n",
       "    }\n",
       "</style>\n",
       "<table border=\"1\" class=\"dataframe\">\n",
       "  <thead>\n",
       "    <tr style=\"text-align: right;\">\n",
       "      <th></th>\n",
       "      <th>Actual_Cost</th>\n",
       "      <th>Predicted_Cost</th>\n",
       "    </tr>\n",
       "  </thead>\n",
       "  <tbody>\n",
       "    <tr>\n",
       "      <th>764</th>\n",
       "      <td>9095.06825</td>\n",
       "      <td>8578.322548</td>\n",
       "    </tr>\n",
       "    <tr>\n",
       "      <th>887</th>\n",
       "      <td>5272.17580</td>\n",
       "      <td>8578.322548</td>\n",
       "    </tr>\n",
       "    <tr>\n",
       "      <th>890</th>\n",
       "      <td>29330.98315</td>\n",
       "      <td>31767.008419</td>\n",
       "    </tr>\n",
       "    <tr>\n",
       "      <th>1293</th>\n",
       "      <td>9301.89355</td>\n",
       "      <td>8578.322548</td>\n",
       "    </tr>\n",
       "    <tr>\n",
       "      <th>259</th>\n",
       "      <td>33750.29180</td>\n",
       "      <td>31767.008419</td>\n",
       "    </tr>\n",
       "  </tbody>\n",
       "</table>\n",
       "</div>"
      ],
      "text/plain": [
       "      Actual_Cost  Predicted_Cost\n",
       "764    9095.06825     8578.322548\n",
       "887    5272.17580     8578.322548\n",
       "890   29330.98315    31767.008419\n",
       "1293   9301.89355     8578.322548\n",
       "259   33750.29180    31767.008419"
      ]
     },
     "execution_count": 27,
     "metadata": {},
     "output_type": "execute_result"
    }
   ],
   "source": [
    "Smoker_predicted_value.head()"
   ]
  },
  {
   "cell_type": "code",
   "execution_count": 28,
   "id": "e2500971",
   "metadata": {},
   "outputs": [
    {
     "name": "stdout",
     "output_type": "stream",
     "text": [
      "The r2_score score:  0.66\n"
     ]
    }
   ],
   "source": [
    "# The r2_score\n",
    "R2_smoker = round(r2_score(y_test, y_preds), 2)\n",
    "print('The r2_score score: ', round(r2_score(y_test, y_preds), 2))"
   ]
  },
  {
   "cell_type": "markdown",
   "id": "d22bba17",
   "metadata": {},
   "source": [
    "This shows the accuracy of the Linear Regression model which is 66%"
   ]
  },
  {
   "cell_type": "code",
   "execution_count": 29,
   "id": "25d313ae",
   "metadata": {},
   "outputs": [
    {
     "name": "stdout",
     "output_type": "stream",
     "text": [
      "The intercept c value:  [8578.322548]\n"
     ]
    }
   ],
   "source": [
    "# Intercept \n",
    "print('The intercept c value: ', model1.intercept_)"
   ]
  },
  {
   "cell_type": "code",
   "execution_count": 30,
   "id": "31f657a8",
   "metadata": {},
   "outputs": [
    {
     "name": "stdout",
     "output_type": "stream",
     "text": [
      "Root Mean Squared Error:  7262.64\n"
     ]
    }
   ],
   "source": [
    "# The RMSE\n",
    "RMSE_smoker = round(math.sqrt(metrics.mean_squared_error(y_test, y_preds)), 2)\n",
    "print('Root Mean Squared Error: ', RMSE_smoker)"
   ]
  },
  {
   "cell_type": "code",
   "execution_count": 31,
   "id": "66b3b122",
   "metadata": {},
   "outputs": [
    {
     "data": {
      "text/plain": [
       "5625.81"
      ]
     },
     "execution_count": 31,
     "metadata": {},
     "output_type": "execute_result"
    }
   ],
   "source": [
    "Absolute_error_smoker = round(metrics.mean_absolute_error(y_test, y_preds), 2)\n",
    "Absolute_error_smoker"
   ]
  },
  {
   "cell_type": "markdown",
   "id": "d5ef7916",
   "metadata": {},
   "source": [
    "##### Statistical Review for Smoker Column"
   ]
  },
  {
   "cell_type": "code",
   "execution_count": 32,
   "id": "529b4832",
   "metadata": {},
   "outputs": [
    {
     "data": {
      "text/html": [
       "<div>\n",
       "<style scoped>\n",
       "    .dataframe tbody tr th:only-of-type {\n",
       "        vertical-align: middle;\n",
       "    }\n",
       "\n",
       "    .dataframe tbody tr th {\n",
       "        vertical-align: top;\n",
       "    }\n",
       "\n",
       "    .dataframe thead th {\n",
       "        text-align: right;\n",
       "    }\n",
       "</style>\n",
       "<table border=\"1\" class=\"dataframe\">\n",
       "  <thead>\n",
       "    <tr style=\"text-align: right;\">\n",
       "      <th></th>\n",
       "      <th>Method</th>\n",
       "      <th>Model_Score %</th>\n",
       "      <th>R2_Score</th>\n",
       "      <th>RMSE</th>\n",
       "      <th>Absolute_error</th>\n",
       "    </tr>\n",
       "  </thead>\n",
       "  <tbody>\n",
       "    <tr>\n",
       "      <th>0</th>\n",
       "      <td>Linear_Regression_Smoker</td>\n",
       "      <td>66.0</td>\n",
       "      <td>0.66</td>\n",
       "      <td>7262.64</td>\n",
       "      <td>5625.81</td>\n",
       "    </tr>\n",
       "  </tbody>\n",
       "</table>\n",
       "</div>"
      ],
      "text/plain": [
       "                     Method Model_Score % R2_Score     RMSE Absolute_error\n",
       "0  Linear_Regression_Smoker          66.0     0.66  7262.64        5625.81"
      ]
     },
     "execution_count": 32,
     "metadata": {},
     "output_type": "execute_result"
    }
   ],
   "source": [
    "Lr_smoker = pd.DataFrame(['Linear_Regression_Smoker', smoker_score*100, R2_smoker,\n",
    "                         RMSE_smoker, Absolute_error_smoker]).T\n",
    "Lr_smoker.columns=['Method', 'Model_Score %', 'R2_Score', 'RMSE', 'Absolute_error']\n",
    "Lr_smoker"
   ]
  },
  {
   "cell_type": "markdown",
   "id": "fcc42eeb",
   "metadata": {},
   "source": [
    "### 4b. 2. For the second predictor (age)"
   ]
  },
  {
   "cell_type": "code",
   "execution_count": 33,
   "id": "921142b6",
   "metadata": {},
   "outputs": [],
   "source": [
    "# Insert the variables A and b for the training and testing data\n",
    "\n",
    "A = Medical_Insurance['age']\n",
    "b = Medical_Insurance['medicalCost']"
   ]
  },
  {
   "cell_type": "code",
   "execution_count": 34,
   "id": "e6fd4415",
   "metadata": {},
   "outputs": [],
   "source": [
    "A_train, A_test, b_train, b_test = train_test_split(A, b, test_size=0.2, random_state=42)"
   ]
  },
  {
   "cell_type": "code",
   "execution_count": 35,
   "id": "10de1247",
   "metadata": {},
   "outputs": [],
   "source": [
    "# Applying linear regression \n",
    "\n",
    "model2 = LinearRegression()\n",
    "\n",
    "# Fit the model\n",
    "A_train = A_train.values.reshape(-1, 1)\n",
    "A_test = A_test.values.reshape(-1, 1)\n",
    "b_train = b_train.values.reshape(-1,1)"
   ]
  },
  {
   "cell_type": "code",
   "execution_count": 36,
   "id": "7ff76ac4",
   "metadata": {},
   "outputs": [],
   "source": [
    "# Fitting the model into training datasets\n",
    "\n",
    "Age_model = model2.fit(A_train, b_train)"
   ]
  },
  {
   "cell_type": "code",
   "execution_count": 37,
   "id": "8d7f613e",
   "metadata": {},
   "outputs": [
    {
     "data": {
      "text/plain": [
       "0.12"
      ]
     },
     "execution_count": 37,
     "metadata": {},
     "output_type": "execute_result"
    }
   ],
   "source": [
    "# Check the model score \n",
    "age_score = round(model2.score(A_test, b_test), 2)\n",
    "age_score"
   ]
  },
  {
   "cell_type": "markdown",
   "id": "b94ffaa6",
   "metadata": {},
   "source": [
    "It can be seen that the model_score for the model in the training dataset is 12% which is far below expectation"
   ]
  },
  {
   "cell_type": "code",
   "execution_count": 38,
   "id": "8d2bfe50",
   "metadata": {},
   "outputs": [],
   "source": [
    "# Predict the values for medicalCost\n",
    "b_preds = Age_model.predict(A_test)"
   ]
  },
  {
   "cell_type": "code",
   "execution_count": 39,
   "id": "3cb60ec4",
   "metadata": {},
   "outputs": [],
   "source": [
    "# Convert b_preds to 1D\n",
    "b_preds = b_preds.flatten()"
   ]
  },
  {
   "cell_type": "code",
   "execution_count": 40,
   "id": "a1b80243",
   "metadata": {},
   "outputs": [],
   "source": [
    "# Turning into DataFrame\n",
    "Age_comparison = pd.DataFrame({'Actual_Cost': b_test,\n",
    "                              'Predicted_Cost': b_preds})"
   ]
  },
  {
   "cell_type": "code",
   "execution_count": 41,
   "id": "9b2cde3e",
   "metadata": {},
   "outputs": [
    {
     "name": "stdout",
     "output_type": "stream",
     "text": [
      "[3876.92868419]\n"
     ]
    }
   ],
   "source": [
    "# Intercept\n",
    "Intercept_age= model2.intercept_\n",
    "print(model2.intercept_)"
   ]
  },
  {
   "cell_type": "code",
   "execution_count": 42,
   "id": "5f925000",
   "metadata": {},
   "outputs": [
    {
     "name": "stdout",
     "output_type": "stream",
     "text": [
      "The r2_score is:  0.124\n"
     ]
    }
   ],
   "source": [
    "# R2_score \n",
    "Age_R2_Score = round(r2_score(b_test, b_preds), 3)\n",
    "print('The r2_score is: ', round(r2_score(b_test, b_preds), 3))"
   ]
  },
  {
   "cell_type": "code",
   "execution_count": 43,
   "id": "49edbd2f",
   "metadata": {},
   "outputs": [
    {
     "name": "stdout",
     "output_type": "stream",
     "text": [
      "The absolute square error:  9173.26\n"
     ]
    }
   ],
   "source": [
    "Absolute_error_age = round(metrics.mean_absolute_error(b_test, b_preds), 2)\n",
    "print('The absolute square error: ', round(metrics.mean_absolute_error(b_test, b_preds), 2))"
   ]
  },
  {
   "cell_type": "code",
   "execution_count": 44,
   "id": "4a9f5778",
   "metadata": {},
   "outputs": [
    {
     "name": "stdout",
     "output_type": "stream",
     "text": [
      "The RMSE:  11661.22\n"
     ]
    }
   ],
   "source": [
    "RMSE_age= round(math.sqrt(metrics.mean_squared_error(b_test, b_preds)), 2)\n",
    "print('The RMSE: ', round(math.sqrt(metrics.mean_squared_error(b_test, b_preds)), 2))"
   ]
  },
  {
   "cell_type": "code",
   "execution_count": 45,
   "id": "6d9a4c1b",
   "metadata": {},
   "outputs": [
    {
     "data": {
      "text/plain": [
       "array([[240.59655979]])"
      ]
     },
     "execution_count": 45,
     "metadata": {},
     "output_type": "execute_result"
    }
   ],
   "source": [
    "model2.coef_"
   ]
  },
  {
   "cell_type": "markdown",
   "id": "40f957cd",
   "metadata": {},
   "source": [
    "##### Statistical Summary for Age Predictor"
   ]
  },
  {
   "cell_type": "code",
   "execution_count": 46,
   "id": "35fe88c6",
   "metadata": {},
   "outputs": [
    {
     "data": {
      "text/html": [
       "<div>\n",
       "<style scoped>\n",
       "    .dataframe tbody tr th:only-of-type {\n",
       "        vertical-align: middle;\n",
       "    }\n",
       "\n",
       "    .dataframe tbody tr th {\n",
       "        vertical-align: top;\n",
       "    }\n",
       "\n",
       "    .dataframe thead th {\n",
       "        text-align: right;\n",
       "    }\n",
       "</style>\n",
       "<table border=\"1\" class=\"dataframe\">\n",
       "  <thead>\n",
       "    <tr style=\"text-align: right;\">\n",
       "      <th></th>\n",
       "      <th>Method</th>\n",
       "      <th>Model_Score %</th>\n",
       "      <th>R2_Score</th>\n",
       "      <th>RMSE</th>\n",
       "      <th>Absolute_error</th>\n",
       "    </tr>\n",
       "  </thead>\n",
       "  <tbody>\n",
       "    <tr>\n",
       "      <th>0</th>\n",
       "      <td>Linear_Regression_Age</td>\n",
       "      <td>12.0</td>\n",
       "      <td>0.124</td>\n",
       "      <td>11661.22</td>\n",
       "      <td>9173.26</td>\n",
       "    </tr>\n",
       "  </tbody>\n",
       "</table>\n",
       "</div>"
      ],
      "text/plain": [
       "                  Method Model_Score % R2_Score      RMSE Absolute_error\n",
       "0  Linear_Regression_Age          12.0    0.124  11661.22        9173.26"
      ]
     },
     "execution_count": 46,
     "metadata": {},
     "output_type": "execute_result"
    }
   ],
   "source": [
    "Lr_age = pd.DataFrame(['Linear_Regression_Age', age_score*100, Age_R2_Score,\n",
    "                         RMSE_age, Absolute_error_age]).T\n",
    "Lr_age.columns=['Method', 'Model_Score %', 'R2_Score', 'RMSE', 'Absolute_error']\n",
    "Lr_age"
   ]
  },
  {
   "cell_type": "markdown",
   "id": "95efd832",
   "metadata": {},
   "source": [
    "### 4b. 3. For the third predictor (bmi)"
   ]
  },
  {
   "cell_type": "code",
   "execution_count": 47,
   "id": "7a91ab40",
   "metadata": {},
   "outputs": [],
   "source": [
    "C = Medical_Insurance['bmi'] #replacement for X\n",
    "d = Medical_Insurance['medicalCost'] # replacement for y"
   ]
  },
  {
   "cell_type": "code",
   "execution_count": 48,
   "id": "2959153a",
   "metadata": {},
   "outputs": [],
   "source": [
    "# Training and testing the data\n",
    "C_train, C_test, d_train, d_test = train_test_split(C, d, test_size=0.2, random_state=42)"
   ]
  },
  {
   "cell_type": "code",
   "execution_count": 49,
   "id": "b39cf5c1",
   "metadata": {},
   "outputs": [],
   "source": [
    "model3 = LinearRegression()"
   ]
  },
  {
   "cell_type": "code",
   "execution_count": 50,
   "id": "a19c6faa",
   "metadata": {},
   "outputs": [],
   "source": [
    "# Fit the training dataset\n",
    "C_train = C_train.values.reshape(-1,1)\n",
    "C_test = C_test.values.reshape(-1, 1)\n",
    "d_train = d_train.values.reshape(-1, 1)"
   ]
  },
  {
   "cell_type": "code",
   "execution_count": 51,
   "id": "00c7dccc",
   "metadata": {},
   "outputs": [],
   "source": [
    "# Fit the model\n",
    "bmi_fit = model3.fit(C_train, d_train)"
   ]
  },
  {
   "cell_type": "code",
   "execution_count": 52,
   "id": "a8d6ecfa",
   "metadata": {},
   "outputs": [],
   "source": [
    "# Model Score\n",
    "bmi_model_score = round(model3.score(C_test, d_test), 2)\n"
   ]
  },
  {
   "cell_type": "markdown",
   "id": "cd3463cf",
   "metadata": {},
   "source": [
    "From the above, the bmi model score is 4%"
   ]
  },
  {
   "cell_type": "code",
   "execution_count": 53,
   "id": "7f6b6af4",
   "metadata": {},
   "outputs": [
    {
     "data": {
      "text/plain": [
       "array([1353.0730722])"
      ]
     },
     "execution_count": 53,
     "metadata": {},
     "output_type": "execute_result"
    }
   ],
   "source": [
    "# The Intercept\n",
    "model3.intercept_"
   ]
  },
  {
   "cell_type": "code",
   "execution_count": 54,
   "id": "200f7aca",
   "metadata": {},
   "outputs": [
    {
     "data": {
      "text/plain": [
       "array([[392.43654417]])"
      ]
     },
     "execution_count": 54,
     "metadata": {},
     "output_type": "execute_result"
    }
   ],
   "source": [
    "# The coefficient\n",
    "model3.coef_"
   ]
  },
  {
   "cell_type": "code",
   "execution_count": 55,
   "id": "5a617f08",
   "metadata": {},
   "outputs": [],
   "source": [
    "# Predict the cost \n",
    "d_preds = model3.predict(C_test)"
   ]
  },
  {
   "cell_type": "code",
   "execution_count": 56,
   "id": "27d7b393",
   "metadata": {},
   "outputs": [],
   "source": [
    "# The prediction effec of bmi on the medicalCost \n",
    "d_preds = d_preds.flatten()\n",
    "\n",
    "bmi_effect = pd.DataFrame({'Actual_Cost': d_test,\n",
    "                          'Predicted_Cost': d_preds})"
   ]
  },
  {
   "cell_type": "code",
   "execution_count": 57,
   "id": "10cba17b",
   "metadata": {},
   "outputs": [
    {
     "data": {
      "text/html": [
       "<div>\n",
       "<style scoped>\n",
       "    .dataframe tbody tr th:only-of-type {\n",
       "        vertical-align: middle;\n",
       "    }\n",
       "\n",
       "    .dataframe tbody tr th {\n",
       "        vertical-align: top;\n",
       "    }\n",
       "\n",
       "    .dataframe thead th {\n",
       "        text-align: right;\n",
       "    }\n",
       "</style>\n",
       "<table border=\"1\" class=\"dataframe\">\n",
       "  <thead>\n",
       "    <tr style=\"text-align: right;\">\n",
       "      <th></th>\n",
       "      <th>Actual_Cost</th>\n",
       "      <th>Predicted_Cost</th>\n",
       "    </tr>\n",
       "  </thead>\n",
       "  <tbody>\n",
       "    <tr>\n",
       "      <th>764</th>\n",
       "      <td>9095.06825</td>\n",
       "      <td>11232.663072</td>\n",
       "    </tr>\n",
       "    <tr>\n",
       "      <th>887</th>\n",
       "      <td>5272.17580</td>\n",
       "      <td>13134.018128</td>\n",
       "    </tr>\n",
       "    <tr>\n",
       "      <th>890</th>\n",
       "      <td>29330.98315</td>\n",
       "      <td>11903.729562</td>\n",
       "    </tr>\n",
       "    <tr>\n",
       "      <th>1293</th>\n",
       "      <td>9301.89355</td>\n",
       "      <td>11456.351902</td>\n",
       "    </tr>\n",
       "    <tr>\n",
       "      <th>259</th>\n",
       "      <td>33750.29180</td>\n",
       "      <td>13879.647562</td>\n",
       "    </tr>\n",
       "  </tbody>\n",
       "</table>\n",
       "</div>"
      ],
      "text/plain": [
       "      Actual_Cost  Predicted_Cost\n",
       "764    9095.06825    11232.663072\n",
       "887    5272.17580    13134.018128\n",
       "890   29330.98315    11903.729562\n",
       "1293   9301.89355    11456.351902\n",
       "259   33750.29180    13879.647562"
      ]
     },
     "execution_count": 57,
     "metadata": {},
     "output_type": "execute_result"
    }
   ],
   "source": [
    "bmi_effect.head()"
   ]
  },
  {
   "cell_type": "code",
   "execution_count": 58,
   "id": "9947722d",
   "metadata": {},
   "outputs": [
    {
     "data": {
      "text/plain": [
       "0.04"
      ]
     },
     "execution_count": 58,
     "metadata": {},
     "output_type": "execute_result"
    }
   ],
   "source": [
    "bmi_r2_score = round(r2_score(d_test, d_preds), 2)\n",
    "bmi_r2_score"
   ]
  },
  {
   "cell_type": "code",
   "execution_count": 59,
   "id": "5db6b7ca",
   "metadata": {},
   "outputs": [
    {
     "name": "stdout",
     "output_type": "stream",
     "text": [
      "The RMSE 12210.039\n"
     ]
    }
   ],
   "source": [
    "bmi_RMSE = round(math.sqrt(metrics.mean_squared_error(d_test, d_preds)), 3)\n",
    "print('The RMSE', round(math.sqrt(metrics.mean_squared_error(d_test, d_preds)), 3))"
   ]
  },
  {
   "cell_type": "code",
   "execution_count": 60,
   "id": "bb22fcf8",
   "metadata": {},
   "outputs": [
    {
     "data": {
      "text/plain": [
       "9784.65"
      ]
     },
     "execution_count": 60,
     "metadata": {},
     "output_type": "execute_result"
    }
   ],
   "source": [
    "# The mean absolute error\n",
    "Absolute_error_bmi = round(mean_absolute_error(d_test, d_preds), 2)\n",
    "round(mean_absolute_error(d_test, d_preds), 2)"
   ]
  },
  {
   "cell_type": "markdown",
   "id": "179be9ce",
   "metadata": {},
   "source": [
    "##### Statistical Summary for Bmi"
   ]
  },
  {
   "cell_type": "code",
   "execution_count": 61,
   "id": "fdea2f72",
   "metadata": {},
   "outputs": [
    {
     "data": {
      "text/html": [
       "<div>\n",
       "<style scoped>\n",
       "    .dataframe tbody tr th:only-of-type {\n",
       "        vertical-align: middle;\n",
       "    }\n",
       "\n",
       "    .dataframe tbody tr th {\n",
       "        vertical-align: top;\n",
       "    }\n",
       "\n",
       "    .dataframe thead th {\n",
       "        text-align: right;\n",
       "    }\n",
       "</style>\n",
       "<table border=\"1\" class=\"dataframe\">\n",
       "  <thead>\n",
       "    <tr style=\"text-align: right;\">\n",
       "      <th></th>\n",
       "      <th>Method</th>\n",
       "      <th>Model_Score %</th>\n",
       "      <th>R2_Score</th>\n",
       "      <th>RMSE</th>\n",
       "      <th>Absolute_error</th>\n",
       "    </tr>\n",
       "  </thead>\n",
       "  <tbody>\n",
       "    <tr>\n",
       "      <th>0</th>\n",
       "      <td>Linear_Regression_Bmi</td>\n",
       "      <td>4.0</td>\n",
       "      <td>0.04</td>\n",
       "      <td>12210.039</td>\n",
       "      <td>9784.65</td>\n",
       "    </tr>\n",
       "  </tbody>\n",
       "</table>\n",
       "</div>"
      ],
      "text/plain": [
       "                  Method Model_Score % R2_Score       RMSE Absolute_error\n",
       "0  Linear_Regression_Bmi           4.0     0.04  12210.039        9784.65"
      ]
     },
     "execution_count": 61,
     "metadata": {},
     "output_type": "execute_result"
    }
   ],
   "source": [
    "Lr_bmi = pd.DataFrame(['Linear_Regression_Bmi', bmi_model_score*100, bmi_r2_score,\n",
    "                         bmi_RMSE, Absolute_error_bmi]).T\n",
    "Lr_bmi.columns=['Method', 'Model_Score %', 'R2_Score', 'RMSE', 'Absolute_error']\n",
    "Lr_bmi"
   ]
  },
  {
   "cell_type": "markdown",
   "id": "fd627ef2",
   "metadata": {},
   "source": [
    "### In Conclusion\n",
    "From the above shown predictors, we can safely conclude that the predictor that has highest effect on the target is the 'Smoker' predictor which pulled a 66% when the Linear Regression Model was fit on it, followed by the 'Age' thereafter the 'Bmi' predictor"
   ]
  },
  {
   "cell_type": "markdown",
   "id": "a05b75fb",
   "metadata": {},
   "source": [
    "### 5. Statistical Analysis for each predictors"
   ]
  },
  {
   "cell_type": "code",
   "execution_count": 62,
   "id": "7df0f97d",
   "metadata": {},
   "outputs": [
    {
     "data": {
      "text/html": [
       "<div>\n",
       "<style scoped>\n",
       "    .dataframe tbody tr th:only-of-type {\n",
       "        vertical-align: middle;\n",
       "    }\n",
       "\n",
       "    .dataframe tbody tr th {\n",
       "        vertical-align: top;\n",
       "    }\n",
       "\n",
       "    .dataframe thead th {\n",
       "        text-align: right;\n",
       "    }\n",
       "</style>\n",
       "<table border=\"1\" class=\"dataframe\">\n",
       "  <thead>\n",
       "    <tr style=\"text-align: right;\">\n",
       "      <th></th>\n",
       "      <th>Method</th>\n",
       "      <th>Model_Score %</th>\n",
       "      <th>R2_Score</th>\n",
       "      <th>RMSE</th>\n",
       "      <th>Absolute_error</th>\n",
       "    </tr>\n",
       "  </thead>\n",
       "  <tbody>\n",
       "    <tr>\n",
       "      <th>0</th>\n",
       "      <td>Linear_Regression_Smoker</td>\n",
       "      <td>66.0</td>\n",
       "      <td>0.66</td>\n",
       "      <td>7262.64</td>\n",
       "      <td>5625.81</td>\n",
       "    </tr>\n",
       "    <tr>\n",
       "      <th>1</th>\n",
       "      <td>Linear_Regression_Age</td>\n",
       "      <td>12.0</td>\n",
       "      <td>0.124</td>\n",
       "      <td>11661.22</td>\n",
       "      <td>9173.26</td>\n",
       "    </tr>\n",
       "    <tr>\n",
       "      <th>2</th>\n",
       "      <td>Linear_Regression_Bmi</td>\n",
       "      <td>4.0</td>\n",
       "      <td>0.04</td>\n",
       "      <td>12210.039</td>\n",
       "      <td>9784.65</td>\n",
       "    </tr>\n",
       "  </tbody>\n",
       "</table>\n",
       "</div>"
      ],
      "text/plain": [
       "                     Method Model_Score % R2_Score       RMSE Absolute_error\n",
       "0  Linear_Regression_Smoker          66.0     0.66    7262.64        5625.81\n",
       "1     Linear_Regression_Age          12.0    0.124   11661.22        9173.26\n",
       "2     Linear_Regression_Bmi           4.0     0.04  12210.039        9784.65"
      ]
     },
     "execution_count": 62,
     "metadata": {},
     "output_type": "execute_result"
    }
   ],
   "source": [
    "Stat_Analysis = pd.concat([Lr_smoker, Lr_age, Lr_bmi], axis=0)\n",
    "Stat_Analysis=Stat_Analysis.reset_index(drop=True)\n",
    "Stat_Analysis"
   ]
  },
  {
   "cell_type": "markdown",
   "id": "f3b97ad1",
   "metadata": {},
   "source": [
    "### In Summary\n",
    "\n",
    "From the above model and regression, it can be seen how the predictors' effect is being displayed by the variation in the model score. The predictor with the highest Model_score shows the heighest effect or determins most the outcome of the target.\n",
    "\n",
    "The same model (Linear Regression) was performed on all the predictors individually, and it can be seen that the smoker predictor strongly showed the immense effect on the traget output.\n",
    "\n",
    "More so, it can be seen that the Absolute Mean Error and the RMSE for each predictor increases as we descend the predictors, which increases the chances of inaccuracies. This also corroborates that the most significant predictor is the smoker predictor which has the least Absolute error and least RMSE."
   ]
  },
  {
   "cell_type": "markdown",
   "id": "23f09f3e",
   "metadata": {},
   "source": [
    "## 5. Multivariate Regression Models"
   ]
  },
  {
   "cell_type": "markdown",
   "id": "cf173b8b",
   "metadata": {},
   "source": [
    "##### Building multivariate model for the three (3) predictors\n"
   ]
  },
  {
   "cell_type": "markdown",
   "id": "390d4722",
   "metadata": {},
   "source": [
    "#### 5a(i). First Model"
   ]
  },
  {
   "cell_type": "code",
   "execution_count": 63,
   "id": "64b24ff4",
   "metadata": {},
   "outputs": [],
   "source": [
    "# Set the data which combines the three predictors\n",
    "G = Medical_Insurance[['smoker', 'age', 'bmi']] # represent X\n",
    "h = Medical_Insurance['medicalCost'] # represent y"
   ]
  },
  {
   "cell_type": "code",
   "execution_count": 64,
   "id": "3c79088f",
   "metadata": {},
   "outputs": [],
   "source": [
    "# Set to train and test data\n",
    "G_train, G_test, h_train, h_test = train_test_split(G, h, test_size=0.2, random_state=42)"
   ]
  },
  {
   "cell_type": "code",
   "execution_count": 65,
   "id": "a984a60f",
   "metadata": {},
   "outputs": [
    {
     "data": {
      "text/plain": [
       "0.78"
      ]
     },
     "execution_count": 65,
     "metadata": {},
     "output_type": "execute_result"
    }
   ],
   "source": [
    "model4 = LinearRegression()\n",
    "# Fit the model \n",
    "MR = model4.fit(G_train, h_train)\n",
    "\n",
    "# Check fot the model score\n",
    "MR_model_score = round(model4.score(G_test, h_test)*100, 2)\n",
    "round(model4.score(G_test, h_test), 2)"
   ]
  },
  {
   "cell_type": "code",
   "execution_count": 66,
   "id": "cf9a0886",
   "metadata": {},
   "outputs": [],
   "source": [
    "# Predicted value h_preds\n",
    "h_preds = MR.predict(G_test)"
   ]
  },
  {
   "cell_type": "code",
   "execution_count": 67,
   "id": "e770e616",
   "metadata": {},
   "outputs": [
    {
     "data": {
      "text/html": [
       "<div>\n",
       "<style scoped>\n",
       "    .dataframe tbody tr th:only-of-type {\n",
       "        vertical-align: middle;\n",
       "    }\n",
       "\n",
       "    .dataframe tbody tr th {\n",
       "        vertical-align: top;\n",
       "    }\n",
       "\n",
       "    .dataframe thead th {\n",
       "        text-align: right;\n",
       "    }\n",
       "</style>\n",
       "<table border=\"1\" class=\"dataframe\">\n",
       "  <thead>\n",
       "    <tr style=\"text-align: right;\">\n",
       "      <th></th>\n",
       "      <th>Actual_Cost</th>\n",
       "      <th>Predicted Cost</th>\n",
       "    </tr>\n",
       "  </thead>\n",
       "  <tbody>\n",
       "    <tr>\n",
       "      <th>764</th>\n",
       "      <td>9095.06825</td>\n",
       "      <td>8184.041468</td>\n",
       "    </tr>\n",
       "    <tr>\n",
       "      <th>887</th>\n",
       "      <td>5272.17580</td>\n",
       "      <td>7431.001001</td>\n",
       "    </tr>\n",
       "    <tr>\n",
       "      <th>890</th>\n",
       "      <td>29330.98315</td>\n",
       "      <td>37346.437099</td>\n",
       "    </tr>\n",
       "    <tr>\n",
       "      <th>1293</th>\n",
       "      <td>9301.89355</td>\n",
       "      <td>8629.528305</td>\n",
       "    </tr>\n",
       "    <tr>\n",
       "      <th>259</th>\n",
       "      <td>33750.29180</td>\n",
       "      <td>27316.654810</td>\n",
       "    </tr>\n",
       "  </tbody>\n",
       "</table>\n",
       "</div>"
      ],
      "text/plain": [
       "      Actual_Cost  Predicted Cost\n",
       "764    9095.06825     8184.041468\n",
       "887    5272.17580     7431.001001\n",
       "890   29330.98315    37346.437099\n",
       "1293   9301.89355     8629.528305\n",
       "259   33750.29180    27316.654810"
      ]
     },
     "execution_count": 67,
     "metadata": {},
     "output_type": "execute_result"
    }
   ],
   "source": [
    "# Values for the Actual and Prediced cost\n",
    "\n",
    "MV_effect = pd.DataFrame({'Actual_Cost': h_test, \n",
    "                        'Predicted Cost': h_preds})\n",
    "\n",
    "MV_effect.head(5)"
   ]
  },
  {
   "cell_type": "code",
   "execution_count": 68,
   "id": "1200ae87",
   "metadata": {},
   "outputs": [
    {
     "name": "stdout",
     "output_type": "stream",
     "text": [
      "The Mean Absolute Error:  4260.56\n"
     ]
    }
   ],
   "source": [
    "# The absolute error\n",
    "MAE_mean = round(mean_absolute_error(h_test, h_preds), 2)\n",
    "print('The Mean Absolute Error: ',round(mean_absolute_error(h_test, h_preds), 2))"
   ]
  },
  {
   "cell_type": "code",
   "execution_count": 69,
   "id": "1754dcc4",
   "metadata": {},
   "outputs": [
    {
     "name": "stdout",
     "output_type": "stream",
     "text": [
      "The root mean squared error (RMSE):  5874.76\n"
     ]
    }
   ],
   "source": [
    "# The RMSE\n",
    "RMSE_MV = round(math.sqrt(metrics.mean_squared_error(h_test, h_preds)), 2)\n",
    "print('The root mean squared error ''(RMSE)'': ', round(\n",
    "    math.sqrt(metrics.mean_squared_error(h_test, h_preds)), 2))"
   ]
  },
  {
   "cell_type": "code",
   "execution_count": 70,
   "id": "397729ff",
   "metadata": {},
   "outputs": [
    {
     "data": {
      "text/plain": [
       "0.78"
      ]
     },
     "execution_count": 70,
     "metadata": {},
     "output_type": "execute_result"
    }
   ],
   "source": [
    "# R2_Score\n",
    "MV_r2_Score = round(r2_score(h_test, h_preds), 2)\n",
    "MV_r2_Score"
   ]
  },
  {
   "cell_type": "code",
   "execution_count": 71,
   "id": "dccfcebd",
   "metadata": {},
   "outputs": [
    {
     "data": {
      "text/html": [
       "<div>\n",
       "<style scoped>\n",
       "    .dataframe tbody tr th:only-of-type {\n",
       "        vertical-align: middle;\n",
       "    }\n",
       "\n",
       "    .dataframe tbody tr th {\n",
       "        vertical-align: top;\n",
       "    }\n",
       "\n",
       "    .dataframe thead th {\n",
       "        text-align: right;\n",
       "    }\n",
       "</style>\n",
       "<table border=\"1\" class=\"dataframe\">\n",
       "  <thead>\n",
       "    <tr style=\"text-align: right;\">\n",
       "      <th></th>\n",
       "      <th>Method</th>\n",
       "      <th>Model Score %</th>\n",
       "      <th>R2_score</th>\n",
       "      <th>Abosulte error</th>\n",
       "      <th>RMSE</th>\n",
       "    </tr>\n",
       "  </thead>\n",
       "  <tbody>\n",
       "    <tr>\n",
       "      <th>0</th>\n",
       "      <td>Linear Regression</td>\n",
       "      <td>77.77</td>\n",
       "      <td>0.78</td>\n",
       "      <td>4260.56</td>\n",
       "      <td>5874.76</td>\n",
       "    </tr>\n",
       "  </tbody>\n",
       "</table>\n",
       "</div>"
      ],
      "text/plain": [
       "              Method Model Score % R2_score Abosulte error     RMSE\n",
       "0  Linear Regression         77.77     0.78        4260.56  5874.76"
      ]
     },
     "execution_count": 71,
     "metadata": {},
     "output_type": "execute_result"
    }
   ],
   "source": [
    "# Statistical summary for Linear Regression\n",
    "Lr_Stat = pd.DataFrame(['Linear Regression', MR_model_score, MV_r2_Score,\n",
    "                          MAE_mean, RMSE_MV]).T\n",
    "Lr_Stat.columns= ['Method', 'Model Score %', 'R2_score', 'Abosulte error', 'RMSE']\n",
    "Lr_Stat"
   ]
  },
  {
   "cell_type": "markdown",
   "id": "5c7d2d92",
   "metadata": {},
   "source": [
    "#### 5a(ii). Second model"
   ]
  },
  {
   "cell_type": "code",
   "execution_count": 72,
   "id": "014ea670",
   "metadata": {},
   "outputs": [],
   "source": [
    "#Import Library\n",
    "from sklearn.ensemble import RandomForestRegressor\n",
    "RF = RandomForestRegressor()"
   ]
  },
  {
   "cell_type": "code",
   "execution_count": 73,
   "id": "fe530746",
   "metadata": {},
   "outputs": [],
   "source": [
    "# Fit the model\n",
    "RF_mv = RF.fit(G_train, h_train)"
   ]
  },
  {
   "cell_type": "code",
   "execution_count": 74,
   "id": "eb670b04",
   "metadata": {},
   "outputs": [
    {
     "data": {
      "text/plain": [
       "83.7"
      ]
     },
     "execution_count": 74,
     "metadata": {},
     "output_type": "execute_result"
    }
   ],
   "source": [
    "# Model Score \n",
    "Mv_score = round(RF.score(G_test, h_test)*100, 2)\n",
    "Mv_score"
   ]
  },
  {
   "cell_type": "code",
   "execution_count": 75,
   "id": "faeff954",
   "metadata": {},
   "outputs": [],
   "source": [
    "# Predicting the outcome\n",
    "hmv_preds = RF.predict(G_test)"
   ]
  },
  {
   "cell_type": "code",
   "execution_count": 76,
   "id": "c0a09397",
   "metadata": {},
   "outputs": [
    {
     "data": {
      "text/plain": [
       "0.84"
      ]
     },
     "execution_count": 76,
     "metadata": {},
     "output_type": "execute_result"
    }
   ],
   "source": [
    "R2_mv_score = round(r2_score(h_test, hmv_preds), 2)\n",
    "R2_mv_score"
   ]
  },
  {
   "cell_type": "code",
   "execution_count": 77,
   "id": "c5c5f81f",
   "metadata": {},
   "outputs": [],
   "source": [
    "MV_effect = pd.DataFrame({\"Actual_Target\": h_test, \"Predicted_Target\": hmv_preds})"
   ]
  },
  {
   "cell_type": "code",
   "execution_count": 78,
   "id": "4818d66e",
   "metadata": {},
   "outputs": [],
   "source": [
    "MV_RMSE = round(math.sqrt(metrics.mean_squared_error(h_test, hmv_preds)), 2)\n",
    "MV_mean = round(metrics.mean_absolute_error(h_test, hmv_preds), 2)"
   ]
  },
  {
   "cell_type": "code",
   "execution_count": 79,
   "id": "46109e25",
   "metadata": {},
   "outputs": [],
   "source": [
    "MV_Stat2= [{\"Model_Score %\": Mv_score*100,\n",
    "    \"Absolute_Mean_Error\": MV_mean,\n",
    "    \"RMSE\": MV_RMSE,\n",
    "    \"R2_Score\": R2_mv_score}]\n",
    "MVRegression_Stat2 = pd.DataFrame(MV_Stat2)"
   ]
  },
  {
   "cell_type": "code",
   "execution_count": 80,
   "id": "e4c5ec19",
   "metadata": {},
   "outputs": [
    {
     "data": {
      "text/html": [
       "<div>\n",
       "<style scoped>\n",
       "    .dataframe tbody tr th:only-of-type {\n",
       "        vertical-align: middle;\n",
       "    }\n",
       "\n",
       "    .dataframe tbody tr th {\n",
       "        vertical-align: top;\n",
       "    }\n",
       "\n",
       "    .dataframe thead th {\n",
       "        text-align: right;\n",
       "    }\n",
       "</style>\n",
       "<table border=\"1\" class=\"dataframe\">\n",
       "  <thead>\n",
       "    <tr style=\"text-align: right;\">\n",
       "      <th></th>\n",
       "      <th>Method</th>\n",
       "      <th>Model Score %</th>\n",
       "      <th>R2_score</th>\n",
       "      <th>Abosulte error</th>\n",
       "      <th>RMSE</th>\n",
       "    </tr>\n",
       "  </thead>\n",
       "  <tbody>\n",
       "    <tr>\n",
       "      <th>0</th>\n",
       "      <td>RandomForestRegressor</td>\n",
       "      <td>83.7</td>\n",
       "      <td>0.84</td>\n",
       "      <td>2754.1</td>\n",
       "      <td>5030.82</td>\n",
       "    </tr>\n",
       "  </tbody>\n",
       "</table>\n",
       "</div>"
      ],
      "text/plain": [
       "                  Method Model Score % R2_score Abosulte error     RMSE\n",
       "0  RandomForestRegressor          83.7     0.84         2754.1  5030.82"
      ]
     },
     "execution_count": 80,
     "metadata": {},
     "output_type": "execute_result"
    }
   ],
   "source": [
    "# Statistical summary for RandomForestRegressor\n",
    "Rf_Stat = pd.DataFrame(['RandomForestRegressor', Mv_score, R2_mv_score,\n",
    "                          MV_mean, MV_RMSE]).T\n",
    "Rf_Stat.columns= ['Method', 'Model Score %', 'R2_score', 'Abosulte error', 'RMSE']\n",
    "Rf_Stat"
   ]
  },
  {
   "cell_type": "code",
   "execution_count": 81,
   "id": "9619c8ed",
   "metadata": {},
   "outputs": [
    {
     "data": {
      "text/html": [
       "<div>\n",
       "<style scoped>\n",
       "    .dataframe tbody tr th:only-of-type {\n",
       "        vertical-align: middle;\n",
       "    }\n",
       "\n",
       "    .dataframe tbody tr th {\n",
       "        vertical-align: top;\n",
       "    }\n",
       "\n",
       "    .dataframe thead th {\n",
       "        text-align: right;\n",
       "    }\n",
       "</style>\n",
       "<table border=\"1\" class=\"dataframe\">\n",
       "  <thead>\n",
       "    <tr style=\"text-align: right;\">\n",
       "      <th></th>\n",
       "      <th>Method</th>\n",
       "      <th>Model Score %</th>\n",
       "      <th>R2_score</th>\n",
       "      <th>Abosulte error</th>\n",
       "      <th>RMSE</th>\n",
       "    </tr>\n",
       "  </thead>\n",
       "  <tbody>\n",
       "    <tr>\n",
       "      <th>0</th>\n",
       "      <td>Linear Regression</td>\n",
       "      <td>77.77</td>\n",
       "      <td>0.78</td>\n",
       "      <td>4260.56</td>\n",
       "      <td>5874.76</td>\n",
       "    </tr>\n",
       "    <tr>\n",
       "      <th>1</th>\n",
       "      <td>RandomForestRegressor</td>\n",
       "      <td>83.7</td>\n",
       "      <td>0.84</td>\n",
       "      <td>2754.1</td>\n",
       "      <td>5030.82</td>\n",
       "    </tr>\n",
       "  </tbody>\n",
       "</table>\n",
       "</div>"
      ],
      "text/plain": [
       "                  Method Model Score % R2_score Abosulte error     RMSE\n",
       "0      Linear Regression         77.77     0.78        4260.56  5874.76\n",
       "1  RandomForestRegressor          83.7     0.84         2754.1  5030.82"
      ]
     },
     "execution_count": 81,
     "metadata": {},
     "output_type": "execute_result"
    }
   ],
   "source": [
    "Statistical_Sum = pd.concat([Lr_Stat, Rf_Stat], axis=0)\n",
    "Statistical_Sum = Statistical_Sum.reset_index(drop=True)\n",
    "Statistical_Sum"
   ]
  },
  {
   "cell_type": "markdown",
   "id": "0263a58e",
   "metadata": {},
   "source": [
    "It can be seen above that the RandomForestRegressor produced a higher accuracy and lesser RMSE and error when using the model. Thus, RandomForestRegressor is the best to use when considering the three predictors together"
   ]
  },
  {
   "cell_type": "markdown",
   "id": "542fd161",
   "metadata": {},
   "source": [
    "## 5b (i) The Multivariate model for  all the predictors"
   ]
  },
  {
   "cell_type": "code",
   "execution_count": 85,
   "id": "70f1061b",
   "metadata": {},
   "outputs": [],
   "source": [
    "# Setting the train and testing data\n",
    "X = Medical_Insurance.drop('medicalCost', axis=1)\n",
    "y = Medical_Insurance['medicalCost']"
   ]
  },
  {
   "cell_type": "code",
   "execution_count": 86,
   "id": "79a0775e",
   "metadata": {},
   "outputs": [],
   "source": [
    "# Separating into train and test datasets\n",
    "X_train, X_test, y_train, y_test = train_test_split(X, y, test_size=0.2, random_state=42)\n",
    "\n",
    "lm = LinearRegression()"
   ]
  },
  {
   "cell_type": "code",
   "execution_count": 87,
   "id": "4385c884",
   "metadata": {},
   "outputs": [],
   "source": [
    "# Fit into the model\n",
    "lm.fit(X_train, y_train)\n",
    "\n",
    "# Model score\n",
    "md_score = round(lm.score(X_test, y_test), 2)"
   ]
  },
  {
   "cell_type": "code",
   "execution_count": 88,
   "id": "1603ca3c",
   "metadata": {},
   "outputs": [
    {
     "data": {
      "text/html": [
       "<div>\n",
       "<style scoped>\n",
       "    .dataframe tbody tr th:only-of-type {\n",
       "        vertical-align: middle;\n",
       "    }\n",
       "\n",
       "    .dataframe tbody tr th {\n",
       "        vertical-align: top;\n",
       "    }\n",
       "\n",
       "    .dataframe thead th {\n",
       "        text-align: right;\n",
       "    }\n",
       "</style>\n",
       "<table border=\"1\" class=\"dataframe\">\n",
       "  <thead>\n",
       "    <tr style=\"text-align: right;\">\n",
       "      <th></th>\n",
       "      <th>Actual_Cost</th>\n",
       "      <th>Predicted_Cost</th>\n",
       "    </tr>\n",
       "  </thead>\n",
       "  <tbody>\n",
       "    <tr>\n",
       "      <th>764</th>\n",
       "      <td>9095.06825</td>\n",
       "      <td>8924.407244</td>\n",
       "    </tr>\n",
       "    <tr>\n",
       "      <th>887</th>\n",
       "      <td>5272.17580</td>\n",
       "      <td>7116.295018</td>\n",
       "    </tr>\n",
       "    <tr>\n",
       "      <th>890</th>\n",
       "      <td>29330.98315</td>\n",
       "      <td>36909.013521</td>\n",
       "    </tr>\n",
       "    <tr>\n",
       "      <th>1293</th>\n",
       "      <td>9301.89355</td>\n",
       "      <td>9507.874691</td>\n",
       "    </tr>\n",
       "    <tr>\n",
       "      <th>259</th>\n",
       "      <td>33750.29180</td>\n",
       "      <td>27013.350008</td>\n",
       "    </tr>\n",
       "  </tbody>\n",
       "</table>\n",
       "</div>"
      ],
      "text/plain": [
       "      Actual_Cost  Predicted_Cost\n",
       "764    9095.06825     8924.407244\n",
       "887    5272.17580     7116.295018\n",
       "890   29330.98315    36909.013521\n",
       "1293   9301.89355     9507.874691\n",
       "259   33750.29180    27013.350008"
      ]
     },
     "execution_count": 88,
     "metadata": {},
     "output_type": "execute_result"
    }
   ],
   "source": [
    "# Predict the cost\n",
    "y_preds = lm.predict(X_test)\n",
    "\n",
    "# Do the comparison\n",
    "All_Comp = pd.DataFrame({'Actual_Cost': y_test, 'Predicted_Cost': y_preds})\n",
    "All_Comp.head()"
   ]
  },
  {
   "cell_type": "code",
   "execution_count": 89,
   "id": "e7e6a015",
   "metadata": {},
   "outputs": [],
   "source": [
    "AB_mean = round(mean_absolute_error(y_test, y_preds), 2)"
   ]
  },
  {
   "cell_type": "code",
   "execution_count": 90,
   "id": "f8b524f1",
   "metadata": {},
   "outputs": [
    {
     "data": {
      "text/plain": [
       "0.783"
      ]
     },
     "execution_count": 90,
     "metadata": {},
     "output_type": "execute_result"
    }
   ],
   "source": [
    "# The r2_score\n",
    "br2_score = round(r2_score(y_test, y_preds), 3)\n",
    "round(r2_score(y_test, y_preds), 3)"
   ]
  },
  {
   "cell_type": "code",
   "execution_count": 91,
   "id": "fc072d04",
   "metadata": {},
   "outputs": [
    {
     "name": "stdout",
     "output_type": "stream",
     "text": [
      "The RMSE:  5799.59\n"
     ]
    }
   ],
   "source": [
    "# The RMSE\n",
    "RMSE_b = round(math.sqrt(metrics.mean_squared_error(y_test, y_preds)),2)\n",
    "print('The RMSE: ', round(math.sqrt(metrics.mean_squared_error(y_test, y_preds)),2))"
   ]
  },
  {
   "cell_type": "code",
   "execution_count": 92,
   "id": "45f85c46",
   "metadata": {},
   "outputs": [
    {
     "data": {
      "text/html": [
       "<div>\n",
       "<style scoped>\n",
       "    .dataframe tbody tr th:only-of-type {\n",
       "        vertical-align: middle;\n",
       "    }\n",
       "\n",
       "    .dataframe tbody tr th {\n",
       "        vertical-align: top;\n",
       "    }\n",
       "\n",
       "    .dataframe thead th {\n",
       "        text-align: right;\n",
       "    }\n",
       "</style>\n",
       "<table border=\"1\" class=\"dataframe\">\n",
       "  <thead>\n",
       "    <tr style=\"text-align: right;\">\n",
       "      <th></th>\n",
       "      <th>Model_Score %</th>\n",
       "      <th>Absolute_Mean_Error</th>\n",
       "      <th>RMSE</th>\n",
       "      <th>R2_Score</th>\n",
       "    </tr>\n",
       "  </thead>\n",
       "  <tbody>\n",
       "    <tr>\n",
       "      <th>0</th>\n",
       "      <td>0.78</td>\n",
       "      <td>4186.51</td>\n",
       "      <td>5799.59</td>\n",
       "      <td>0.783</td>\n",
       "    </tr>\n",
       "  </tbody>\n",
       "</table>\n",
       "</div>"
      ],
      "text/plain": [
       "   Model_Score %  Absolute_Mean_Error     RMSE  R2_Score\n",
       "0           0.78              4186.51  5799.59     0.783"
      ]
     },
     "execution_count": 92,
     "metadata": {},
     "output_type": "execute_result"
    }
   ],
   "source": [
    "B_stat= [{\"Model_Score %\": md_score,\n",
    "    \"Absolute_Mean_Error\": AB_mean,\n",
    "    \"RMSE\": RMSE_b,\n",
    "    \"R2_Score\": br2_score}]\n",
    "B_stat = pd.DataFrame(B_stat)\n",
    "B_stat"
   ]
  },
  {
   "cell_type": "code",
   "execution_count": 93,
   "id": "986fde02",
   "metadata": {},
   "outputs": [],
   "source": [
    "B_Stat = pd.DataFrame(['Three (3)', md_score, br2_score,\n",
    "                          AB_mean, RMSE_b]).T"
   ]
  },
  {
   "cell_type": "code",
   "execution_count": 94,
   "id": "c2739365",
   "metadata": {},
   "outputs": [],
   "source": [
    "y_train_preds = lm.predict(X_train)"
   ]
  },
  {
   "cell_type": "code",
   "execution_count": 95,
   "id": "c9a8c081",
   "metadata": {},
   "outputs": [
    {
     "data": {
      "image/png": "[encoded data removed]",
      "text/plain": [
       "<Figure size 640x480 with 1 Axes>"
      ]
     },
     "metadata": {},
     "output_type": "display_data"
    }
   ],
   "source": [
    "# Plotting the training and predicted datasets on chart\n",
    "plt.scatter(y_test, y_preds, alpha=0.3, c='#7CAE00')\n",
    "z= np.polyfit(y_train, y_train_preds, 1)\n",
    "p = np.poly1d(z)\n",
    "plt.plot(y_train, p(y_train), '#F8766D')\n",
    "plt.ylabel('Predict Logs')\n",
    "plt.xlabel('Experimental Logs')\n",
    "plt.plot();"
   ]
  },
  {
   "cell_type": "markdown",
   "id": "87d6549d",
   "metadata": {},
   "source": [
    "### 5b (ii). For the second model for all preditors"
   ]
  },
  {
   "cell_type": "code",
   "execution_count": 96,
   "id": "b93b41c9",
   "metadata": {},
   "outputs": [],
   "source": [
    "# Setting the train and testing data\n",
    "X = Medical_Insurance.drop('medicalCost', axis=1)\n",
    "y = Medical_Insurance['medicalCost']"
   ]
  },
  {
   "cell_type": "code",
   "execution_count": 97,
   "id": "a13a64dd",
   "metadata": {},
   "outputs": [],
   "source": [
    "# Separating into train and test datasets\n",
    "X_train, X_test, y_train, y_test = train_test_split(X, y, test_size=0.2, random_state=42)"
   ]
  },
  {
   "cell_type": "code",
   "execution_count": 98,
   "id": "4c346e35",
   "metadata": {},
   "outputs": [],
   "source": [
    "# RandomForest\n",
    "RF2 = RandomForestRegressor(n_estimators=100)\n",
    "\n",
    "np.random.seed(42)"
   ]
  },
  {
   "cell_type": "code",
   "execution_count": 99,
   "id": "0503dddc",
   "metadata": {},
   "outputs": [],
   "source": [
    "# Fit the model\n",
    "rf_fit = RF2.fit(X_train, y_train)"
   ]
  },
  {
   "cell_type": "code",
   "execution_count": 100,
   "id": "6cc17c01",
   "metadata": {},
   "outputs": [
    {
     "data": {
      "text/plain": [
       "86.43"
      ]
     },
     "execution_count": 100,
     "metadata": {},
     "output_type": "execute_result"
    }
   ],
   "source": [
    "# Checking the model score\n",
    "rf_score = round(RF2.score(X_test, y_test)*100, 2)\n",
    "rf_score"
   ]
  },
  {
   "cell_type": "code",
   "execution_count": 101,
   "id": "e447dea0",
   "metadata": {},
   "outputs": [],
   "source": [
    "# Predict the outcome\n",
    "ry_preds = rf_fit.predict(X_test)"
   ]
  },
  {
   "cell_type": "code",
   "execution_count": 102,
   "id": "0175c0b4",
   "metadata": {},
   "outputs": [],
   "source": [
    "r2_Score = round(r2_score(y_test, ry_preds), 2)"
   ]
  },
  {
   "cell_type": "code",
   "execution_count": 103,
   "id": "17ed7cac",
   "metadata": {},
   "outputs": [
    {
     "data": {
      "text/html": [
       "<div>\n",
       "<style scoped>\n",
       "    .dataframe tbody tr th:only-of-type {\n",
       "        vertical-align: middle;\n",
       "    }\n",
       "\n",
       "    .dataframe tbody tr th {\n",
       "        vertical-align: top;\n",
       "    }\n",
       "\n",
       "    .dataframe thead th {\n",
       "        text-align: right;\n",
       "    }\n",
       "</style>\n",
       "<table border=\"1\" class=\"dataframe\">\n",
       "  <thead>\n",
       "    <tr style=\"text-align: right;\">\n",
       "      <th></th>\n",
       "      <th>Actual_Values</th>\n",
       "      <th>Predicted_Values</th>\n",
       "    </tr>\n",
       "  </thead>\n",
       "  <tbody>\n",
       "    <tr>\n",
       "      <th>764</th>\n",
       "      <td>9095.06825</td>\n",
       "      <td>11129.209807</td>\n",
       "    </tr>\n",
       "    <tr>\n",
       "      <th>887</th>\n",
       "      <td>5272.17580</td>\n",
       "      <td>5279.331531</td>\n",
       "    </tr>\n",
       "    <tr>\n",
       "      <th>890</th>\n",
       "      <td>29330.98315</td>\n",
       "      <td>28261.113596</td>\n",
       "    </tr>\n",
       "    <tr>\n",
       "      <th>1293</th>\n",
       "      <td>9301.89355</td>\n",
       "      <td>10712.517653</td>\n",
       "    </tr>\n",
       "    <tr>\n",
       "      <th>259</th>\n",
       "      <td>33750.29180</td>\n",
       "      <td>34526.701036</td>\n",
       "    </tr>\n",
       "    <tr>\n",
       "      <th>...</th>\n",
       "      <td>...</td>\n",
       "      <td>...</td>\n",
       "    </tr>\n",
       "    <tr>\n",
       "      <th>109</th>\n",
       "      <td>47055.53210</td>\n",
       "      <td>46998.878766</td>\n",
       "    </tr>\n",
       "    <tr>\n",
       "      <th>575</th>\n",
       "      <td>12222.89830</td>\n",
       "      <td>12403.443158</td>\n",
       "    </tr>\n",
       "    <tr>\n",
       "      <th>535</th>\n",
       "      <td>6067.12675</td>\n",
       "      <td>6361.954509</td>\n",
       "    </tr>\n",
       "    <tr>\n",
       "      <th>543</th>\n",
       "      <td>63770.42801</td>\n",
       "      <td>46753.924302</td>\n",
       "    </tr>\n",
       "    <tr>\n",
       "      <th>846</th>\n",
       "      <td>9872.70100</td>\n",
       "      <td>9877.968651</td>\n",
       "    </tr>\n",
       "  </tbody>\n",
       "</table>\n",
       "<p>268 rows × 2 columns</p>\n",
       "</div>"
      ],
      "text/plain": [
       "      Actual_Values  Predicted_Values\n",
       "764      9095.06825      11129.209807\n",
       "887      5272.17580       5279.331531\n",
       "890     29330.98315      28261.113596\n",
       "1293     9301.89355      10712.517653\n",
       "259     33750.29180      34526.701036\n",
       "...             ...               ...\n",
       "109     47055.53210      46998.878766\n",
       "575     12222.89830      12403.443158\n",
       "535      6067.12675       6361.954509\n",
       "543     63770.42801      46753.924302\n",
       "846      9872.70100       9877.968651\n",
       "\n",
       "[268 rows x 2 columns]"
      ]
     },
     "execution_count": 103,
     "metadata": {},
     "output_type": "execute_result"
    }
   ],
   "source": [
    "# Comparing the Actual and Predicted Value\n",
    "\n",
    "pd.DataFrame({'Actual_Values': y_test, 'Predicted_Values': ry_preds})"
   ]
  },
  {
   "cell_type": "code",
   "execution_count": 104,
   "id": "29d32b6c",
   "metadata": {},
   "outputs": [
    {
     "data": {
      "text/plain": [
       "4590.57"
      ]
     },
     "execution_count": 104,
     "metadata": {},
     "output_type": "execute_result"
    }
   ],
   "source": [
    "# RMSE \n",
    "Rf_RMSE = round(math.sqrt(metrics.mean_squared_error(y_test, ry_preds)), 2)\n",
    "Rf_RMSE"
   ]
  },
  {
   "cell_type": "code",
   "execution_count": 105,
   "id": "4d804f9d",
   "metadata": {},
   "outputs": [
    {
     "data": {
      "text/plain": [
       "2533.67"
      ]
     },
     "execution_count": 105,
     "metadata": {},
     "output_type": "execute_result"
    }
   ],
   "source": [
    "# Absolute error\n",
    "R_Ab = round(metrics.mean_absolute_error(y_test, ry_preds), 2)\n",
    "R_Ab"
   ]
  },
  {
   "cell_type": "code",
   "execution_count": 106,
   "id": "7d4e4adc",
   "metadata": {},
   "outputs": [],
   "source": [
    "yb_train_preds= RF2.predict(X_train)"
   ]
  },
  {
   "cell_type": "code",
   "execution_count": 107,
   "id": "2c8a304f",
   "metadata": {},
   "outputs": [
    {
     "data": {
      "image/png": "[encoded data removed]",
      "text/plain": [
       "<Figure size 640x480 with 1 Axes>"
      ]
     },
     "metadata": {},
     "output_type": "display_data"
    }
   ],
   "source": [
    "#Plotting the training and predicted datasets on chart\n",
    "plt.scatter(y_test, ry_preds, alpha=0.3, c='#7CAE00')\n",
    "z= np.polyfit(y_train, yb_train_preds, 1)\n",
    "p = np.poly1d(z)\n",
    "plt.plot(y_train, p(y_train), '#F8766D')\n",
    "plt.ylabel('Predict Values')\n",
    "plt.xlabel('Experimental Values')\n",
    "plt.plot();"
   ]
  },
  {
   "cell_type": "markdown",
   "id": "f1b989a8",
   "metadata": {},
   "source": [
    "##### Statistical Summary of the Multivariate Model Predictor"
   ]
  },
  {
   "cell_type": "code",
   "execution_count": 108,
   "id": "7db63736",
   "metadata": {},
   "outputs": [
    {
     "data": {
      "text/html": [
       "<div>\n",
       "<style scoped>\n",
       "    .dataframe tbody tr th:only-of-type {\n",
       "        vertical-align: middle;\n",
       "    }\n",
       "\n",
       "    .dataframe tbody tr th {\n",
       "        vertical-align: top;\n",
       "    }\n",
       "\n",
       "    .dataframe thead th {\n",
       "        text-align: right;\n",
       "    }\n",
       "</style>\n",
       "<table border=\"1\" class=\"dataframe\">\n",
       "  <thead>\n",
       "    <tr style=\"text-align: right;\">\n",
       "      <th></th>\n",
       "      <th>Model_Score %</th>\n",
       "      <th>Absolute_Mean_Error</th>\n",
       "      <th>RMSE</th>\n",
       "      <th>R2_Score</th>\n",
       "    </tr>\n",
       "  </thead>\n",
       "  <tbody>\n",
       "    <tr>\n",
       "      <th>0</th>\n",
       "      <td>86.43</td>\n",
       "      <td>2533.67</td>\n",
       "      <td>4590.57</td>\n",
       "      <td>0.86</td>\n",
       "    </tr>\n",
       "  </tbody>\n",
       "</table>\n",
       "</div>"
      ],
      "text/plain": [
       "   Model_Score %  Absolute_Mean_Error     RMSE  R2_Score\n",
       "0          86.43              2533.67  4590.57      0.86"
      ]
     },
     "execution_count": 108,
     "metadata": {},
     "output_type": "execute_result"
    }
   ],
   "source": [
    "B2_stat= [{\"Model_Score %\": rf_score,\n",
    "    \"Absolute_Mean_Error\": R_Ab,\n",
    "    \"RMSE\": Rf_RMSE,\n",
    "    \"R2_Score\": r2_Score}]\n",
    "B2_stat = pd.DataFrame(B2_stat)\n",
    "B2_stat"
   ]
  },
  {
   "cell_type": "markdown",
   "id": "a4fcdcef",
   "metadata": {},
   "source": [
    "#### Statistical Summary "
   ]
  },
  {
   "cell_type": "code",
   "execution_count": 109,
   "id": "f9c48d9a",
   "metadata": {},
   "outputs": [],
   "source": [
    "B2_Stat = pd.DataFrame(['All', rf_score, r2_Score,\n",
    "                          R_Ab, Rf_RMSE]).T"
   ]
  },
  {
   "cell_type": "code",
   "execution_count": 110,
   "id": "b7ff78d9",
   "metadata": {},
   "outputs": [
    {
     "data": {
      "text/html": [
       "<div>\n",
       "<style scoped>\n",
       "    .dataframe tbody tr th:only-of-type {\n",
       "        vertical-align: middle;\n",
       "    }\n",
       "\n",
       "    .dataframe tbody tr th {\n",
       "        vertical-align: top;\n",
       "    }\n",
       "\n",
       "    .dataframe thead th {\n",
       "        text-align: right;\n",
       "    }\n",
       "</style>\n",
       "<table border=\"1\" class=\"dataframe\">\n",
       "  <thead>\n",
       "    <tr style=\"text-align: right;\">\n",
       "      <th></th>\n",
       "      <th>Predictors</th>\n",
       "      <th>Model Score %</th>\n",
       "      <th>R2_score</th>\n",
       "      <th>Abosulte error</th>\n",
       "      <th>RMSE</th>\n",
       "    </tr>\n",
       "  </thead>\n",
       "  <tbody>\n",
       "    <tr>\n",
       "      <th>0</th>\n",
       "      <td>Three (3)</td>\n",
       "      <td>0.78</td>\n",
       "      <td>0.783</td>\n",
       "      <td>4186.51</td>\n",
       "      <td>5799.59</td>\n",
       "    </tr>\n",
       "    <tr>\n",
       "      <th>1</th>\n",
       "      <td>All</td>\n",
       "      <td>86.43</td>\n",
       "      <td>0.86</td>\n",
       "      <td>2533.67</td>\n",
       "      <td>4590.57</td>\n",
       "    </tr>\n",
       "  </tbody>\n",
       "</table>\n",
       "</div>"
      ],
      "text/plain": [
       "  Predictors Model Score % R2_score Abosulte error     RMSE\n",
       "0  Three (3)          0.78    0.783        4186.51  5799.59\n",
       "1        All         86.43     0.86        2533.67  4590.57"
      ]
     },
     "execution_count": 110,
     "metadata": {},
     "output_type": "execute_result"
    }
   ],
   "source": [
    "summ= pd.concat([B_Stat, B2_Stat])\n",
    "summ.columns= ['Predictors', 'Model Score %', 'R2_score', 'Abosulte error', 'RMSE']\n",
    "summary = summ.reset_index(drop=True)\n",
    "summary"
   ]
  },
  {
   "cell_type": "markdown",
   "id": "a3e0c567",
   "metadata": {},
   "source": [
    "### In Conclusion\n",
    "\n",
    "It can be seen that taking a multivariate model increases our model accuracy and predictions. When handling the three major predictors, the highest accuracy that we got was 82%, while when we treated the accuracy of the model with all the predictors, it can be seen that we had the highest model score which is 86% and the least Absolute Mean Error"
   ]
  }
 ],
 "metadata": {
  "kernelspec": {
   "display_name": "Python 3 (ipykernel)",
   "language": "python",
   "name": "python3"
  },
  "language_info": {
   "codemirror_mode": {
    "name": "ipython",
    "version": 3
   },
   "file_extension": ".py",
   "mimetype": "text/x-python",
   "name": "python",
   "nbconvert_exporter": "python",
   "pygments_lexer": "ipython3",
   "version": "3.9.13"
  }
 },
 "nbformat": 4,
 "nbformat_minor": 5
}
